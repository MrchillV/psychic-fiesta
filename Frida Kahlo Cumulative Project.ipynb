{
 "cells": [
  {
   "cell_type": "code",
   "execution_count": 1,
   "id": "bb087c22",
   "metadata": {},
   "outputs": [
    {
     "data": {
      "text/plain": [
       "['The Two Fridas',\n",
       " 'My dress Hangs Here',\n",
       " 'Tree of Hope',\n",
       " 'Self Portrait With Monkeys']"
      ]
     },
     "execution_count": 1,
     "metadata": {},
     "output_type": "execute_result"
    }
   ],
   "source": [
    "paintings = [\"The Two Fridas\", \"My dress Hangs Here\", \"Tree of Hope\", \"Self Portrait With Monkeys\"]\n",
    "paintings"
   ]
  },
  {
   "cell_type": "code",
   "execution_count": 2,
   "id": "ba4ffb40",
   "metadata": {},
   "outputs": [
    {
     "data": {
      "text/plain": [
       "[1939, 1933, 1946, 1940]"
      ]
     },
     "execution_count": 2,
     "metadata": {},
     "output_type": "execute_result"
    }
   ],
   "source": [
    "dates =[1939, 1933, 1946, 1940]\n",
    "dates"
   ]
  },
  {
   "cell_type": "code",
   "execution_count": 3,
   "id": "29eaf853",
   "metadata": {},
   "outputs": [
    {
     "data": {
      "text/plain": [
       "[('The Two Fridas', 1939),\n",
       " ('My dress Hangs Here', 1933),\n",
       " ('Tree of Hope', 1946),\n",
       " ('Self Portrait With Monkeys', 1940)]"
      ]
     },
     "execution_count": 3,
     "metadata": {},
     "output_type": "execute_result"
    }
   ],
   "source": [
    "paintings = list(zip(paintings, dates))\n",
    "paintings"
   ]
  },
  {
   "cell_type": "code",
   "execution_count": 4,
   "id": "514132f5",
   "metadata": {},
   "outputs": [
    {
     "data": {
      "text/plain": [
       "[('The Two Fridas', 1939),\n",
       " ('My dress Hangs Here', 1933),\n",
       " ('Tree of Hope', 1946),\n",
       " ('Self Portrait With Monkeys', 1940),\n",
       " ('The Broken Column', 1944),\n",
       " ('The Wounded Deer', 1946),\n",
       " ('Me and My Doll', 1937)]"
      ]
     },
     "execution_count": 4,
     "metadata": {},
     "output_type": "execute_result"
    }
   ],
   "source": [
    "paintings.append(tuple(['The Broken Column', 1944]))\n",
    "paintings.append(tuple(['The Wounded Deer', 1946]))\n",
    "paintings.append(tuple(['Me and My Doll', 1937]))\n",
    "paintings"
   ]
  },
  {
   "cell_type": "code",
   "execution_count": 5,
   "id": "cd13d3b7",
   "metadata": {},
   "outputs": [
    {
     "data": {
      "text/plain": [
       "7"
      ]
     },
     "execution_count": 5,
     "metadata": {},
     "output_type": "execute_result"
    }
   ],
   "source": [
    "len(paintings)"
   ]
  },
  {
   "cell_type": "code",
   "execution_count": 6,
   "id": "dab584c3",
   "metadata": {},
   "outputs": [],
   "source": [
    "audio_tour_number = list(range(1, len(paintings) + 1))"
   ]
  },
  {
   "cell_type": "code",
   "execution_count": 7,
   "id": "05c6f3c7",
   "metadata": {},
   "outputs": [
    {
     "data": {
      "text/plain": [
       "[1, 2, 3, 4, 5, 6, 7]"
      ]
     },
     "execution_count": 7,
     "metadata": {},
     "output_type": "execute_result"
    }
   ],
   "source": [
    "audio_tour_number"
   ]
  },
  {
   "cell_type": "code",
   "execution_count": 8,
   "id": "de175923",
   "metadata": {},
   "outputs": [
    {
     "data": {
      "text/plain": [
       "[(1, ('The Two Fridas', 1939)),\n",
       " (2, ('My dress Hangs Here', 1933)),\n",
       " (3, ('Tree of Hope', 1946)),\n",
       " (4, ('Self Portrait With Monkeys', 1940)),\n",
       " (5, ('The Broken Column', 1944)),\n",
       " (6, ('The Wounded Deer', 1946)),\n",
       " (7, ('Me and My Doll', 1937))]"
      ]
     },
     "execution_count": 8,
     "metadata": {},
     "output_type": "execute_result"
    }
   ],
   "source": [
    "master_list = list(zip(audio_tour_number, paintings))\n",
    "master_list"
   ]
  },
  {
   "cell_type": "code",
   "execution_count": null,
   "id": "504f4186",
   "metadata": {},
   "outputs": [],
   "source": []
  }
 ],
 "metadata": {
  "kernelspec": {
   "display_name": "Python 3 (ipykernel)",
   "language": "python",
   "name": "python3"
  },
  "language_info": {
   "codemirror_mode": {
    "name": "ipython",
    "version": 3
   },
   "file_extension": ".py",
   "mimetype": "text/x-python",
   "name": "python",
   "nbconvert_exporter": "python",
   "pygments_lexer": "ipython3",
   "version": "3.10.10"
  }
 },
 "nbformat": 4,
 "nbformat_minor": 5
}

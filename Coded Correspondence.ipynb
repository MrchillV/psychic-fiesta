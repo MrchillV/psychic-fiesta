{
 "cells": [
  {
   "cell_type": "code",
   "execution_count": 1,
   "id": "8530fcc4",
   "metadata": {},
   "outputs": [
    {
     "data": {
      "text/plain": [
       "'abcdefghijklmnopqrstuvwxyz'"
      ]
     },
     "execution_count": 1,
     "metadata": {},
     "output_type": "execute_result"
    }
   ],
   "source": [
    "alphabet = 'abcdefghijklmnopqrstuvwxyz'\n",
    "alphabet"
   ]
  },
  {
   "cell_type": "code",
   "execution_count": 2,
   "id": "1accc8ad",
   "metadata": {},
   "outputs": [
    {
     "data": {
      "text/plain": [
       "'xuo jxuhu! jxyi yi qd unqcfbu ev q squiqh syfxuh. muhu oek qrbu je tusetu yj? y xefu ie! iudt cu q cuiiqwu rqsa myjx jxu iqcu evviuji!'"
      ]
     },
     "execution_count": 2,
     "metadata": {},
     "output_type": "execute_result"
    }
   ],
   "source": [
    "message = 'xuo jxuhu! jxyi yi qd unqcfbu ev q squiqh syfxuh. muhu oek qrbu je tusetu yj? y xefu ie! iudt cu q cuiiqwu rqsa myjx jxu iqcu evviuji!'\n",
    "message"
   ]
  },
  {
   "cell_type": "code",
   "execution_count": 3,
   "id": "ada5233b",
   "metadata": {},
   "outputs": [],
   "source": [
    "translated_message = ''"
   ]
  },
  {
   "cell_type": "code",
   "execution_count": 5,
   "id": "9b8d4c33",
   "metadata": {},
   "outputs": [
    {
     "name": "stdout",
     "output_type": "stream",
     "text": [
      "hey there! this is an example of a caesar cipher. were you able to decode it? i hope so! send me a message back with the same offsets!\n"
     ]
    }
   ],
   "source": [
    "for character in message:\n",
    "    if character in alphabet:\n",
    "        characters = alphabet.find(character)\n",
    "        translated_message += alphabet[(characters + 10) % 26]\n",
    "    else:\n",
    "        translated_message += character\n",
    "print(translated_message)"
   ]
  },
  {
   "cell_type": "code",
   "execution_count": 6,
   "id": "0987ebef",
   "metadata": {},
   "outputs": [
    {
     "data": {
      "text/plain": [
       "'Hey Vishal! I really like this cipher, thank you very much for showing me!'"
      ]
     },
     "execution_count": 6,
     "metadata": {},
     "output_type": "execute_result"
    }
   ],
   "source": [
    "message_for_v = 'Hey Vishal! I really like this cipher, thank you very much for showing me!'\n",
    "message_for_v"
   ]
  },
  {
   "cell_type": "code",
   "execution_count": 7,
   "id": "ad6617e5",
   "metadata": {},
   "outputs": [],
   "source": [
    "translated_message_for_v = ''"
   ]
  },
  {
   "cell_type": "code",
   "execution_count": 8,
   "id": "55453dde",
   "metadata": {},
   "outputs": [
    {
     "name": "stdout",
     "output_type": "stream",
     "text": [
      "Huo Vyixqb! I huqbbo byau jxyi syfxuh, jxqda oek luho cksx veh ixemydw cu!\n"
     ]
    }
   ],
   "source": [
    "for character in message_for_v:\n",
    "    if character in alphabet:\n",
    "        characters = alphabet.find(character)\n",
    "        translated_message_for_v += alphabet[(characters - 10) % 26]\n",
    "    else:\n",
    "        translated_message_for_v += character\n",
    "print(translated_message_for_v)"
   ]
  },
  {
   "cell_type": "code",
   "execution_count": 9,
   "id": "9d151804",
   "metadata": {},
   "outputs": [],
   "source": [
    "def caesar_decode(message, offset):\n",
    "    decoded_message = ''\n",
    "    \n",
    "    for character in message:\n",
    "        if character in alphabet:\n",
    "            characters = alphabet.find(character)\n",
    "            decoded_message += alphabet[(characters + offset) % 26]\n",
    "        else:\n",
    "            decoded_message += character\n",
    "    return decoded_message\n",
    "\n",
    "def caesar_encode(message, offset):\n",
    "    encoded_message = ''\n",
    "    \n",
    "    for character in message:\n",
    "        if character in alphabet:\n",
    "            characters = alphabet.find(character)\n",
    "            encoded_message += alphabet[(characters - offset) % 26]\n",
    "        else:\n",
    "            encoded_message += character\n",
    "    return encoded_message"
   ]
  },
  {
   "cell_type": "code",
   "execution_count": 11,
   "id": "3bd3e1ce",
   "metadata": {},
   "outputs": [
    {
     "name": "stdout",
     "output_type": "stream",
     "text": [
      "the offset for the second message is fourteen.\n"
     ]
    }
   ],
   "source": [
    "message_one = 'jxu evviuj veh jxu iusedt cuiiqwu yi vekhjuud.'\n",
    "print(caesar_decode(message_one, 10))"
   ]
  },
  {
   "cell_type": "code",
   "execution_count": 12,
   "id": "b0e693ff",
   "metadata": {},
   "outputs": [
    {
     "name": "stdout",
     "output_type": "stream",
     "text": [
      "performing multiple caesar ciphers to code your messages is even more secure!\n"
     ]
    }
   ],
   "source": [
    "message_two = 'bqdradyuzs ygxfubxq omqemd oubtqde fa oapq kagd yqeemsqe ue qhqz yadq eqogdq!'\n",
    "print(caesar_decode(message_two, 14))"
   ]
  },
  {
   "cell_type": "code",
   "execution_count": 16,
   "id": "0fc798f4",
   "metadata": {},
   "outputs": [
    {
     "name": "stdout",
     "output_type": "stream",
     "text": [
      "Offset: 1\n",
      "\t wigjonylm bupy lyhxylyx uff iz nbymy ifx wcjbylm ivmifyny. qy'ff bupy ni lyuffs mnyj oj iol augy cz qy quhn ni eyyj iol gymmuaym muzy.\n",
      "Offset: 2\n",
      "\t xjhkpozmn cvqz mziyzmzy vgg ja ocznz jgy xdkczmn jwnjgzoz. rz'gg cvqz oj mzvggt nozk pk jpm bvhz da rz rvio oj fzzk jpm hznnvbzn nvaz.\n",
      "Offset: 3\n",
      "\t ykilqpano dwra najzanaz whh kb pdaoa khz yeldano kxokhapa. sa'hh dwra pk nawhhu opal ql kqn cwia eb sa swjp pk gaal kqn iaoowcao owba.\n",
      "Offset: 4\n",
      "\t zljmrqbop exsb obkaboba xii lc qebpb lia zfmebop lyplibqb. tb'ii exsb ql obxiiv pqbm rm lro dxjb fc tb txkq ql hbbm lro jbppxdbp pxcb.\n",
      "Offset: 5\n",
      "\t amknsrcpq fytc pclbcpcb yjj md rfcqc mjb agnfcpq mzqmjcrc. uc'jj fytc rm pcyjjw qrcn sn msp eykc gd uc uylr rm iccn msp kcqqyecq qydc.\n",
      "Offset: 6\n",
      "\t bnlotsdqr gzud qdmcdqdc zkk ne sgdrd nkc bhogdqr narnkdsd. vd'kk gzud sn qdzkkx rsdo to ntq fzld he vd vzms sn jddo ntq ldrrzfdr rzed.\n",
      "Offset: 7\n",
      "\t computers have rendered all of these old ciphers obsolete. we'll have to really step up our game if we want to keep our messages safe.\n",
      "Offset: 8\n",
      "\t dpnqvufst ibwf sfoefsfe bmm pg uiftf pme djqifst pctpmfuf. xf'mm ibwf up sfbmmz tufq vq pvs hbnf jg xf xbou up lffq pvs nfttbhft tbgf.\n",
      "Offset: 9\n",
      "\t eqorwvgtu jcxg tgpfgtgf cnn qh vjgug qnf ekrjgtu qduqngvg. yg'nn jcxg vq tgcnna uvgr wr qwt icog kh yg ycpv vq mggr qwt oguucigu uchg.\n",
      "Offset: 10\n",
      "\t frpsxwhuv kdyh uhqghuhg doo ri wkhvh rog flskhuv revrohwh. zh'oo kdyh wr uhdoob vwhs xs rxu jdph li zh zdqw wr nhhs rxu phvvdjhv vdih.\n",
      "Offset: 11\n",
      "\t gsqtyxivw lezi virhivih epp sj xliwi sph gmtlivw sfwspixi. ai'pp lezi xs vieppc wxit yt syv keqi mj ai aerx xs oiit syv qiwwekiw weji.\n",
      "Offset: 12\n",
      "\t htruzyjwx mfaj wjsijwji fqq tk ymjxj tqi hnumjwx tgxtqjyj. bj'qq mfaj yt wjfqqd xyju zu tzw lfrj nk bj bfsy yt pjju tzw rjxxfljx xfkj.\n",
      "Offset: 13\n",
      "\t iusvazkxy ngbk xktjkxkj grr ul znkyk urj iovnkxy uhyurkzk. ck'rr ngbk zu xkgrre yzkv av uax mgsk ol ck cgtz zu qkkv uax skyygmky yglk.\n",
      "Offset: 14\n",
      "\t jvtwbalyz ohcl yluklylk hss vm aolzl vsk jpwolyz vizvslal. dl'ss ohcl av ylhssf zalw bw vby nhtl pm dl dhua av rllw vby tlzzhnlz zhml.\n",
      "Offset: 15\n",
      "\t kwuxcbmza pidm zmvlmzml itt wn bpmam wtl kqxpmza wjawtmbm. em'tt pidm bw zmittg abmx cx wcz oium qn em eivb bw smmx wcz umaaioma ainm.\n",
      "Offset: 16\n",
      "\t lxvydcnab qjen anwmnanm juu xo cqnbn xum lryqnab xkbxuncn. fn'uu qjen cx anjuuh bcny dy xda pjvn ro fn fjwc cx tnny xda vnbbjpnb bjon.\n",
      "Offset: 17\n",
      "\t mywzedobc rkfo boxnobon kvv yp droco yvn mszrobc ylcyvodo. go'vv rkfo dy bokvvi cdoz ez yeb qkwo sp go gkxd dy uooz yeb wocckqoc ckpo.\n",
      "Offset: 18\n",
      "\t nzxafepcd slgp cpyopcpo lww zq espdp zwo ntaspcd zmdzwpep. hp'ww slgp ez cplwwj depa fa zfc rlxp tq hp hlye ez vppa zfc xpddlrpd dlqp.\n",
      "Offset: 19\n",
      "\t oaybgfqde tmhq dqzpqdqp mxx ar ftqeq axp oubtqde aneaxqfq. iq'xx tmhq fa dqmxxk efqb gb agd smyq ur iq imzf fa wqqb agd yqeemsqe emrq.\n",
      "Offset: 20\n",
      "\t pbzchgref unir eraqrerq nyy bs gurfr byq pvcuref bofbyrgr. jr'yy unir gb ernyyl fgrc hc bhe tnzr vs jr jnag gb xrrc bhe zrffntrf fnsr.\n",
      "Offset: 21\n",
      "\t qcadihsfg vojs fsbrsfsr ozz ct hvsgs czr qwdvsfg cpgczshs. ks'zz vojs hc fsozzm ghsd id cif uoas wt ks kobh hc yssd cif asggousg gots.\n",
      "Offset: 22\n",
      "\t rdbejitgh wpkt gtcstgts paa du iwtht das rxewtgh dqhdatit. lt'aa wpkt id gtpaan hite je djg vpbt xu lt lpci id ztte djg bthhpvth hput.\n",
      "Offset: 23\n",
      "\t secfkjuhi xqlu hudtuhut qbb ev jxuiu ebt syfxuhi eriebuju. mu'bb xqlu je huqbbo ijuf kf ekh wqcu yv mu mqdj je auuf ekh cuiiqwui iqvu.\n",
      "Offset: 24\n",
      "\t tfdglkvij yrmv iveuvivu rcc fw kyvjv fcu tzgyvij fsjfcvkv. nv'cc yrmv kf ivrccp jkvg lg fli xrdv zw nv nrek kf bvvg fli dvjjrxvj jrwv.\n",
      "Offset: 25\n",
      "\t ugehmlwjk zsnw jwfvwjwv sdd gx lzwkw gdv uahzwjk gtkgdwlw. ow'dd zsnw lg jwsddq klwh mh gmj ysew ax ow osfl lg cwwh gmj ewkksywk ksxw.\n"
     ]
    }
   ],
   "source": [
    "forced_message = \"vhfinmxkl atox kxgwxkxw tee hy maxlx hew vbiaxkl hulhexmx. px'ee atox mh kxteer lmxi ni hnk ztfx by px ptgm mh dxxi hnk fxlltzxl ltyx.\"\n",
    "\n",
    "for i in range(1, 26):\n",
    "    print(\"Offset: {}\".format(i))\n",
    "    print(\"\\t {}\".format(caesar_decode(forced_message, i)))"
   ]
  },
  {
   "cell_type": "code",
   "execution_count": 20,
   "id": "c902a824",
   "metadata": {},
   "outputs": [],
   "source": [
    "def vigenere_decode(message, keyword):\n",
    "    keyword_phrase = ''\n",
    "    keyword_index = 0\n",
    "    \n",
    "    for character in message:\n",
    "        if keyword_index >= len(keyword):\n",
    "            keyword_index = 0\n",
    "        if character in alphabet:\n",
    "            keyword_phrase += keyword[keyword_index]\n",
    "            keyword_index += 1\n",
    "        else:\n",
    "            keyword_phrase += character\n",
    "    decoded_message = ''\n",
    "    \n",
    "    for i in range(len(message)):\n",
    "        if message[i] in alphabet:\n",
    "            prev_character_index = alphabet.find(message[i])\n",
    "            offset_index = alphabet.find(keyword_phrase[i])\n",
    "            current_character = alphabet[(prev_character_index + offset_index) % 26]\n",
    "            decoded_message += current_character\n",
    "        else:\n",
    "            decoded_message += message[i]\n",
    "    return decoded_message\n",
    "    "
   ]
  },
  {
   "cell_type": "code",
   "execution_count": 21,
   "id": "c7a3c6cb",
   "metadata": {},
   "outputs": [
    {
     "name": "stdout",
     "output_type": "stream",
     "text": [
      "you were able to decode this? nice work! you are becoming quite the expert at crytography!\n"
     ]
    }
   ],
   "source": [
    "vigenere_message = 'txm srom vkda gl lzlgzr qpdb? fepb ejac! ubr imn tapludwy mhfbz cza ruxzal wg zztcgcexxch!'\n",
    "vigenere_keyword = 'friends'\n",
    "\n",
    "print(vigenere_decode(vigenere_message, vigenere_keyword))"
   ]
  },
  {
   "cell_type": "code",
   "execution_count": 22,
   "id": "e6568ab3",
   "metadata": {},
   "outputs": [],
   "source": [
    "def vigenere_encode(message, keyword):\n",
    "    keyword_phrase = ''\n",
    "    keyword_index = 0\n",
    "    \n",
    "    for character in message:\n",
    "        if keyword_index >= len(keyword):\n",
    "            keyword_index = 0\n",
    "        if character in alphabet:\n",
    "            keyword_phrase += keyword[keyword_index]\n",
    "            keyword_index += 1\n",
    "        else:\n",
    "            keyword_phrase += character\n",
    "            \n",
    "    encoded_message = ''\n",
    "    \n",
    "    for i in range(len(message)):\n",
    "        if message[i] in alphabet:\n",
    "            prev_character_index = alphabet.find(message[i])\n",
    "            offset_index = alphabet.find(keyword_phrase[i])\n",
    "            current_character = alphabet[(prev_character_index - offset_index) % 26]\n",
    "            encoded_message += current_character\n",
    "        else:\n",
    "            encoded_message += message[i]\n",
    "    return encoded_message\n",
    "    "
   ]
  },
  {
   "cell_type": "code",
   "execution_count": 24,
   "id": "06c540c2",
   "metadata": {},
   "outputs": [
    {
     "name": "stdout",
     "output_type": "stream",
     "text": [
      "Tgwvr zjd kk zrkg bwy uzjudvko la bofnn ajgoqfqquh xrhdroa!\n",
      "Thank you so much for teaching me these intriguing ciphers!\n"
     ]
    }
   ],
   "source": [
    "vigenere_message_for_v = 'Thank you so much for teaching me these intriguing ciphers!'\n",
    "keyword_for_v = 'best friends'\n",
    "\n",
    "print(vigenere_encode(vigenere_message_for_v, keyword_for_v))\n",
    "print(vigenere_decode(vigenere_encode(vigenere_message_for_v, keyword_for_v), keyword_for_v))\n"
   ]
  },
  {
   "cell_type": "code",
   "execution_count": null,
   "id": "80c29443",
   "metadata": {},
   "outputs": [],
   "source": []
  }
 ],
 "metadata": {
  "kernelspec": {
   "display_name": "Python 3 (ipykernel)",
   "language": "python",
   "name": "python3"
  },
  "language_info": {
   "codemirror_mode": {
    "name": "ipython",
    "version": 3
   },
   "file_extension": ".py",
   "mimetype": "text/x-python",
   "name": "python",
   "nbconvert_exporter": "python",
   "pygments_lexer": "ipython3",
   "version": "3.10.10"
  }
 },
 "nbformat": 4,
 "nbformat_minor": 5
}
